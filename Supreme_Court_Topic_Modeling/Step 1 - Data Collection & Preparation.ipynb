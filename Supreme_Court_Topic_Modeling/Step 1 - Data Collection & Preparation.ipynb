{
 "cells": [
  {
   "cell_type": "markdown",
   "metadata": {
    "slideshow": {
     "slide_type": "slide"
    }
   },
   "source": [
    "# Data Collection & Preparation"
   ]
  },
  {
   "cell_type": "markdown",
   "metadata": {
    "slideshow": {
     "slide_type": "slide"
    }
   },
   "source": [
    "\n",
    "### Software Package & Built in Function Documentation\n",
    " - Beautiful Soup - https://www.crummy.com/software/BeautifulSoup/bs4/doc/\n",
    " - requests - http://docs.python-requests.org/en/master/\n",
    " - Regular Expressions - https://docs.python.org/2/library/re.html\n",
    " - Pandas - https://pandas.pydata.org/pandas-docs/stable/10min.html\n",
    " - Numpy - http://www.numpy.org/\n",
    " - Pickle - https://docs.python.org/2/library/pickle.html "
   ]
  },
  {
   "cell_type": "code",
   "execution_count": 1,
   "metadata": {
    "slideshow": {
     "slide_type": "slide"
    }
   },
   "outputs": [],
   "source": [
    "# Import Scientific Packages into Python Kernel\n",
    "from bs4 import BeautifulSoup \n",
    "import requests \n",
    "import re \n",
    "\n",
    "import pandas as pd\n",
    "import numpy as np\n",
    "\n",
    "# Set a user-agent in your header so you aren't flagged by the browser when making an HTTP request\n",
    "headers = {'User-Agent': 'Mozilla/5.0 (Macintosh; Intel Mac OS X 10_10_1) AppleWebKit/537.36 (KHTML, like Gecko) \\\n",
    "           Chrome/39.0.2171.95 Safari/537.36'}\n"
   ]
  },
  {
   "cell_type": "markdown",
   "metadata": {
    "slideshow": {
     "slide_type": "slide"
    }
   },
   "source": [
    "## Create a List of Supreme Court Ducuments and their URLs"
   ]
  },
  {
   "cell_type": "code",
   "execution_count": 2,
   "metadata": {
    "slideshow": {
     "slide_type": "fragment"
    }
   },
   "outputs": [],
   "source": [
    "# Link url from caselaw which has a repository of Supreme Court ruling opinions and assign to variable\n",
    "root_url = \"http://caselaw.findlaw.com/court/us-supreme-court/years/\""
   ]
  },
  {
   "cell_type": "markdown",
   "metadata": {
    "slideshow": {
     "slide_type": "subslide"
    }
   },
   "source": [
    "![Caselaw Search](../images/caselaw-page.png)"
   ]
  },
  {
   "cell_type": "code",
   "execution_count": 3,
   "metadata": {
    "slideshow": {
     "slide_type": "slide"
    }
   },
   "outputs": [],
   "source": [
    "# Assign a variable to house an array of supreme court documents listed within the years you'd like to explore\n",
    "years = [root_url + str(year) for year in range(1760,2018)]\n",
    "\n",
    "# Define a method that executes your url request and returns the data (HTML or XML) as an Object \n",
    "def Beautiful_soup_grabber(link):\n",
    "    \n",
    "    response = requests.get(link, headers = headers) #optional add timeout (seconds) keeps requests from running indefinitely \n",
    "    \n",
    "    return BeautifulSoup(response.text, \"lxml\") #Returns BeautifulSoup object, which represents the document as a nested data structure\n",
    "\n",
    "\n",
    "# Define a method which calls the above method for each year within the range you've requested and convert result object into table\n",
    "def year_getter(years):\n",
    "    \n",
    "    y = {}\n",
    "    for year in years:\n",
    "        soup = Beautiful_soup_grabber(year)\n",
    "        souplist = soup.findAll(\"a\")\n",
    "        \n",
    "        #use regular expressions to \n",
    "        for i in souplist:\n",
    "            if re.search(\"us-supreme-court\", str(i)) and not re.search(\"years\", str(i)) and not re.search(\"/court/\", str(i)):\n",
    "                b = i[\"href\"]\n",
    "                y[b] = [re.sub(\"[^0-9]\", \"\", b.split(\"/\")[-1])]\n",
    "    \n",
    "    \n",
    "    return pd.DataFrame(y).transpose().reset_index() #converts results to data frame table using pandas"
   ]
  },
  {
   "cell_type": "code",
   "execution_count": null,
   "metadata": {
    "slideshow": {
     "slide_type": "subslide"
    }
   },
   "outputs": [],
   "source": [
    "df = year_getter(years) #call the above function and assign it to a shorthand varible (this will take several minutes to execute)\n",
    "\n",
    "df.columns = [\"case_url\", \"docket\"] #assign column names"
   ]
  },
  {
   "cell_type": "code",
   "execution_count": null,
   "metadata": {
    "slideshow": {
     "slide_type": "subslide"
    }
   },
   "outputs": [],
   "source": [
    "\n",
    "df.head(5) #Return the first n rows (default n=5) to check table values and header names aligned correctly"
   ]
  },
  {
   "cell_type": "code",
   "execution_count": 31,
   "metadata": {
    "slideshow": {
     "slide_type": "subslide"
    }
   },
   "outputs": [
    {
     "data": {
      "text/plain": [
       "'http://caselaw.findlaw.com/us-supreme-court/05-1101.html'"
      ]
     },
     "execution_count": 31,
     "metadata": {},
     "output_type": "execute_result"
    }
   ],
   "source": [
    "\n",
    "df.ix[0, \"case_url\"] #select a specific row in the dataframe to check value"
   ]
  },
  {
   "cell_type": "code",
   "execution_count": 29,
   "metadata": {
    "collapsed": true,
    "slideshow": {
     "slide_type": "slide"
    }
   },
   "outputs": [],
   "source": [
    "\n",
    "df.to_pickle(\"supcourt_yearlist.pickle\") #Python Object serialization - “Pickling” is the process whereby a Python object hierarchy is converted into a byte stream"
   ]
  },
  {
   "cell_type": "code",
   "execution_count": 32,
   "metadata": {
    "slideshow": {
     "slide_type": "subslide"
    }
   },
   "outputs": [
    {
     "data": {
      "text/plain": [
       "(23393, 2)"
      ]
     },
     "execution_count": 32,
     "metadata": {},
     "output_type": "execute_result"
    }
   ],
   "source": [
    "df.shape #The shape attribute for numpy arrays returns the dimensions of the array\n",
    "\n",
    "#this will return the number of cases in our table"
   ]
  }
 ],
 "metadata": {
  "celltoolbar": "Slideshow",
  "kernelspec": {
   "display_name": "Python 2",
   "language": "python",
   "name": "python2"
  },
  "language_info": {
   "codemirror_mode": {
    "name": "ipython",
    "version": 2
   },
   "file_extension": ".py",
   "mimetype": "text/x-python",
   "name": "python",
   "nbconvert_exporter": "python",
   "pygments_lexer": "ipython2",
   "version": "2.7.13"
  }
 },
 "nbformat": 4,
 "nbformat_minor": 2
}
