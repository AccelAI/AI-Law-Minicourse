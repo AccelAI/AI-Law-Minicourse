{
 "cells": [
  {
   "cell_type": "markdown",
   "metadata": {
    "slideshow": {
     "slide_type": "fragment"
    }
   },
   "source": [
    "![](./images/DL-NLP-intro.png)"
   ]
  },
  {
   "cell_type": "markdown",
   "metadata": {
    "slideshow": {
     "slide_type": "slide"
    }
   },
   "source": [
    "# Agenda"
   ]
  },
  {
   "cell_type": "markdown",
   "metadata": {
    "slideshow": {
     "slide_type": "subslide"
    }
   },
   "source": [
    "- What is Deep Learning?\n",
    "- The Rise of Deep Learning\n",
    "- Convolutional Neural Networks\n",
    "- Deep Learning for NLP\n",
    "- Homework Review"
   ]
  },
  {
   "cell_type": "markdown",
   "metadata": {
    "slideshow": {
     "slide_type": "slide"
    }
   },
   "source": [
    "![Ng](./images/Ng-quote.png)"
   ]
  },
  {
   "cell_type": "markdown",
   "metadata": {
    "slideshow": {
     "slide_type": "slide"
    }
   },
   "source": [
    "# Deep Learning\n",
    "\n",
    "![brain-network](https://ville.montreal.qc.ca/idmtl/en/wp-content/uploads/sites/2/2017/04/inf2.jpg)"
   ]
  },
  {
   "cell_type": "markdown",
   "metadata": {
    "slideshow": {
     "slide_type": "subslide"
    }
   },
   "source": [
    "## Mimics the neocortex of our brains\n",
    "\n",
    "![](https://media.nature.com/full/nature-assets/neuro/journal/v19/n3/images/nn.4244-F1.jpg)"
   ]
  },
  {
   "cell_type": "markdown",
   "metadata": {
    "slideshow": {
     "slide_type": "notes"
    }
   },
   "source": [
    "Deep-learning software attempts to mimic the activity in layers of neurons in the neocortex, the wrinkly 80 percent of the brain where thinking occurs. The software learns, in a very real sense, to recognize patterns in digital representations of sounds, images, and other data.\n",
    "\n",
    "The basic idea—that software can simulate the neocortex’s large array of neurons in an artificial “neural network”—is decades old, and it has led to as many disappointments as breakthroughs. "
   ]
  },
  {
   "cell_type": "markdown",
   "metadata": {
    "slideshow": {
     "slide_type": "subslide"
    }
   },
   "source": [
    "\n",
    "![](./images/perceptrons.png)"
   ]
  },
  {
   "cell_type": "markdown",
   "metadata": {
    "slideshow": {
     "slide_type": "notes"
    }
   },
   "source": [
    "The neurons in our brain transmitting these electrochemical signals have inspired the artificial neuron called a perceptron.\n",
    "\n",
    "Perceptrons are one of the earliest algorithms used for classification in supervised learning - with only a single layer.\n"
   ]
  },
  {
   "cell_type": "markdown",
   "metadata": {
    "slideshow": {
     "slide_type": "subslide"
    }
   },
   "source": [
    "![](./images/classification.png)"
   ]
  },
  {
   "cell_type": "markdown",
   "metadata": {
    "slideshow": {
     "slide_type": "notes"
    }
   },
   "source": [
    "Classification - categorize a group of objects while only using some basic data features to describe them in order to predict a value.\n",
    "\n",
    "This is done by building a model based on one or more numerical or categorical variables (predictors, attributes, or features). \n",
    "\n",
    "\n",
    "- Most current machine learning works\twell because of\thuman-designed representations and\tinput\tfeatures\t\n",
    "- Machine learning becomes just\t optimizing\tweights\tto\tbest make a\tfinal prediction\t\n",
    "- Representation\tlearning\tattempts\tto automatically learn\tgood features or representations\t\n",
    "- Deep learning algorithms attempt to\tlearn multiple\tlevels\tof\trepresentation\tof\tincreasing\tcomplexity/abstraction"
   ]
  },
  {
   "cell_type": "markdown",
   "metadata": {
    "slideshow": {
     "slide_type": "slide"
    }
   },
   "source": [
    "# A neural network = running several logistic regressions at the same time\n",
    "\n",
    "![neural net](https://cdn-images-1.medium.com/max/1600/0*IUWJ5oJ_z6AiG7Ja.jpg)"
   ]
  },
  {
   "cell_type": "markdown",
   "metadata": {
    "slideshow": {
     "slide_type": "notes"
    }
   },
   "source": [
    "If\twe\tfeed a vector\tof\tinputs\tthrough\ta\tbunch\tof\tlogistic regression\tfunctions,\tthen\twe\tget\ta\tvector of outputs....\n",
    "\n",
    "- which\twe can\tfeed into another logistic regression function\n",
    "- It is the training criterion that will direct what the intermediate hidden variables should be,\tso as to do\ta good job at predicting the targets for the next layer, etc.\t\n",
    "- Before we\tknow it, we\thave a multilayer neural network…"
   ]
  },
  {
   "cell_type": "markdown",
   "metadata": {
    "slideshow": {
     "slide_type": "slide"
    }
   },
   "source": [
    "# Rise of Deep Learning"
   ]
  },
  {
   "cell_type": "markdown",
   "metadata": {
    "slideshow": {
     "slide_type": "slide"
    }
   },
   "source": [
    "# Convolutional Neural Networks (CNNs)\n"
   ]
  },
  {
   "cell_type": "markdown",
   "metadata": {
    "slideshow": {
     "slide_type": "subslide"
    }
   },
   "source": [
    "![](./images/cnn-artithmetic.gif)"
   ]
  },
  {
   "cell_type": "markdown",
   "metadata": {
    "slideshow": {
     "slide_type": "notes"
    }
   },
   "source": [
    "In computer vision, the arithmetic being performed can be thought of as a spotlight - extracting features, such as edges, from an image one layer at a time. These layers are often called filters."
   ]
  },
  {
   "cell_type": "code",
   "execution_count": null,
   "metadata": {},
   "outputs": [],
   "source": []
  }
 ],
 "metadata": {
  "celltoolbar": "Slideshow",
  "kernelspec": {
   "display_name": "Python 2",
   "language": "python",
   "name": "python2"
  },
  "language_info": {
   "codemirror_mode": {
    "name": "ipython",
    "version": 2
   },
   "file_extension": ".py",
   "mimetype": "text/x-python",
   "name": "python",
   "nbconvert_exporter": "python",
   "pygments_lexer": "ipython2",
   "version": "2.7.13"
  }
 },
 "nbformat": 4,
 "nbformat_minor": 2
}
